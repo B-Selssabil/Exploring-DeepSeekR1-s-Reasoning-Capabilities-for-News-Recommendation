{
 "cells": [
  {
   "cell_type": "code",
   "execution_count": 1,
   "id": "bebf5284",
   "metadata": {},
   "outputs": [],
   "source": [
    "import pandas as pd\n",
    "import re"
   ]
  },
  {
   "cell_type": "markdown",
   "id": "42380816",
   "metadata": {},
   "source": [
    "### **1 - Reading & Exploring Data :**"
   ]
  },
  {
   "cell_type": "code",
   "execution_count": 54,
   "id": "00f84a94",
   "metadata": {},
   "outputs": [],
   "source": [
    "train_df = pd.read_csv(\"Data/Initial-Data/MIND_train.csv\")\n",
    "valid_df = pd.read_csv(\"Data/Initial-Data/MIND_valid.csv\")\n",
    "test_df = pd.read_csv(\"Data/Initial-Data/MIND_test.csv\")"
   ]
  },
  {
   "cell_type": "code",
   "execution_count": 55,
   "id": "7eb3baeb",
   "metadata": {},
   "outputs": [
    {
     "data": {
      "text/plain": [
       "Index(['impression_id', 'history', 'candidate', 'label', 'history_news_id',\n",
       "       'history_title', 'history_category', 'history_subvert',\n",
       "       'history_abstract', 'candidate_news_id', 'candidate_title',\n",
       "       'candidate_category', 'candidate_subvert', 'candidate_abstract'],\n",
       "      dtype='object')"
      ]
     },
     "execution_count": 55,
     "metadata": {},
     "output_type": "execute_result"
    }
   ],
   "source": [
    "test_df.columns"
   ]
  },
  {
   "cell_type": "code",
   "execution_count": 56,
   "id": "e8df6d21",
   "metadata": {},
   "outputs": [],
   "source": [
    "test_df['total'] = test_df['candidate'].apply(lambda x: len(x.split('\\n')) if x else 0)"
   ]
  },
  {
   "cell_type": "code",
   "execution_count": 57,
   "id": "d9a6c1c3",
   "metadata": {},
   "outputs": [
    {
     "data": {
      "text/plain": [
       "np.int64(10)"
      ]
     },
     "execution_count": 57,
     "metadata": {},
     "output_type": "execute_result"
    }
   ],
   "source": [
    "test_df['total'].min()"
   ]
  },
  {
   "cell_type": "code",
   "execution_count": 58,
   "id": "2829f6e9",
   "metadata": {},
   "outputs": [
    {
     "name": "stdout",
     "output_type": "stream",
     "text": [
      "H1: Panera Bread worker fired after TikTok exposed frozen mac and cheese Category=>foodanddrink;foodnews\n",
      "H2: A Texas mom is going to prison after putting her son through unnecessary medical procedures Category=>news;newscrime\n",
      "H3: Emily Ratajkowski Is Being Sued for $150,000 Over an Instagram Photo Category=>movies;movies-celebrity\n",
      "H4: Joe Biden reportedly denied Communion at a South Carolina church because of his stance on abortion Category=>news;newspolitics\n",
      "H5: Mississippi woman found after being missing for days by writing S.O.S. with rocks Category=>news;newsus\n"
     ]
    }
   ],
   "source": [
    "print(train_df['history'][0])"
   ]
  },
  {
   "cell_type": "code",
   "execution_count": 59,
   "id": "13b3faab",
   "metadata": {},
   "outputs": [
    {
     "data": {
      "text/plain": [
       "((180, 16), (20, 16), (400, 15))"
      ]
     },
     "execution_count": 59,
     "metadata": {},
     "output_type": "execute_result"
    }
   ],
   "source": [
    "(train_df.shape), (valid_df.shape), (test_df.shape)"
   ]
  },
  {
   "cell_type": "code",
   "execution_count": 60,
   "id": "9df328d8",
   "metadata": {},
   "outputs": [
    {
     "data": {
      "text/plain": [
       "impression_id         0\n",
       "history               0\n",
       "candidate             0\n",
       "label                 0\n",
       "history_news_id       0\n",
       "history_title         0\n",
       "history_category      0\n",
       "history_subvert       0\n",
       "history_abstract      1\n",
       "candidate_news_id     0\n",
       "candidate_title       0\n",
       "candidate_category    0\n",
       "candidate_subvert     0\n",
       "candidate_abstract    0\n",
       "total                 0\n",
       "dtype: int64"
      ]
     },
     "execution_count": 60,
     "metadata": {},
     "output_type": "execute_result"
    }
   ],
   "source": [
    "test_df.isna().sum()"
   ]
  },
  {
   "cell_type": "code",
   "execution_count": 61,
   "id": "999aec3d",
   "metadata": {},
   "outputs": [
    {
     "data": {
      "text/plain": [
       "impression_id          int64\n",
       "history               object\n",
       "candidate             object\n",
       "label                 object\n",
       "history_news_id       object\n",
       "history_title         object\n",
       "history_category      object\n",
       "history_subvert       object\n",
       "history_abstract      object\n",
       "candidate_news_id     object\n",
       "candidate_title       object\n",
       "candidate_category    object\n",
       "candidate_subvert     object\n",
       "candidate_abstract    object\n",
       "Description           object\n",
       "COT                   object\n",
       "dtype: object"
      ]
     },
     "execution_count": 61,
     "metadata": {},
     "output_type": "execute_result"
    }
   ],
   "source": [
    "train_df.dtypes"
   ]
  },
  {
   "cell_type": "code",
   "execution_count": 62,
   "id": "470dd1d7",
   "metadata": {},
   "outputs": [
    {
     "data": {
      "text/plain": [
       "Index(['impression_id', 'history', 'candidate', 'label', 'history_news_id',\n",
       "       'history_title', 'history_category', 'history_subvert',\n",
       "       'history_abstract', 'candidate_news_id', 'candidate_title',\n",
       "       'candidate_category', 'candidate_subvert', 'candidate_abstract',\n",
       "       'total'],\n",
       "      dtype='object')"
      ]
     },
     "execution_count": 62,
     "metadata": {},
     "output_type": "execute_result"
    }
   ],
   "source": [
    "test_df.columns"
   ]
  },
  {
   "cell_type": "markdown",
   "id": "1d22410c",
   "metadata": {},
   "source": [
    "### **2 - Getting Needed Columns :**"
   ]
  },
  {
   "cell_type": "code",
   "execution_count": 63,
   "id": "11749227",
   "metadata": {},
   "outputs": [],
   "source": [
    "train_df = train_df[['history',\"candidate\",\"label\",\"Description\",\"COT\"]]\n",
    "valid_df = valid_df[['history',\"candidate\",\"label\",\"Description\",\"COT\"]]\n",
    "test_df = test_df[['history',\"candidate\",\"label\"]]"
   ]
  },
  {
   "cell_type": "markdown",
   "id": "6b08cecb",
   "metadata": {},
   "source": [
    "### **3 - Preprocessing Data :**"
   ]
  },
  {
   "cell_type": "code",
   "execution_count": 64,
   "id": "4d8225c1",
   "metadata": {},
   "outputs": [],
   "source": [
    "def reformat_text(text):\n",
    "    lines = text.split(\"\\n\")  # Split by newline\n",
    "    pattern = r\"^(H\\d+:|C\\d+:)\\s*(.*?)\\s*Category=>(.*?);(.*)$\"\n",
    "    \n",
    "    formatted_lines = []\n",
    "    \n",
    "    for line in lines:\n",
    "        match = re.match(pattern, line)\n",
    "        if match:\n",
    "            prefix, headline, category, subcategory = match.groups()\n",
    "            formatted_line = f\"{prefix} {headline} which belongs to the category of {category} and subcategory of {subcategory}\"\n",
    "            formatted_lines.append(formatted_line)\n",
    "        else:\n",
    "            formatted_lines.append(line)  # Keep original line if no match\n",
    "    \n",
    "    return \"\\n\".join(formatted_lines)"
   ]
  },
  {
   "cell_type": "code",
   "execution_count": 65,
   "id": "9d15f5ea",
   "metadata": {},
   "outputs": [],
   "source": [
    "def update(x):\n",
    "    return re.sub(r'\\bsubcategory of (\\w*?)news(\\w*)\\b', r'subcategory of \\1\\2', x)"
   ]
  },
  {
   "cell_type": "code",
   "execution_count": 66,
   "id": "7ef83971",
   "metadata": {},
   "outputs": [],
   "source": [
    "train_df['history'] = train_df['history'].apply(lambda x: reformat_text(x))\n",
    "valid_df['history'] = valid_df['history'].apply(lambda x: reformat_text(x))\n",
    "test_df['history'] = test_df['history'].apply(lambda x: reformat_text(x))\n",
    "\n",
    "train_df['candidate'] = train_df['candidate'].apply(lambda x: reformat_text(x))\n",
    "valid_df['candidate'] = valid_df['candidate'].apply(lambda x: reformat_text(x))\n",
    "test_df['candidate'] = test_df['candidate'].apply(lambda x: reformat_text(x))"
   ]
  },
  {
   "cell_type": "code",
   "execution_count": 67,
   "id": "af12753e",
   "metadata": {},
   "outputs": [],
   "source": [
    "train_df['history'] = train_df['history'].apply(lambda x: update(x))\n",
    "valid_df['history'] = valid_df['history'].apply(lambda x: update(x))\n",
    "test_df['history'] = test_df['history'].apply(lambda x: update(x))\n",
    "\n",
    "train_df['candidate'] = train_df['candidate'].apply(lambda x: update(x))\n",
    "valid_df['candidate'] = valid_df['candidate'].apply(lambda x: update(x))\n",
    "test_df['candidate'] = test_df['candidate'].apply(lambda x: update(x))"
   ]
  },
  {
   "cell_type": "code",
   "execution_count": null,
   "id": "c4c62f34",
   "metadata": {},
   "outputs": [],
   "source": [
    "def process_cot(row):\n",
    "    cot = row['COT'].lstrip('result =')\n",
    "    \n",
    "    cot = cot.replace('\\\\n', '\\n ')\n",
    "    \n",
    "    cot = cot.strip(\" \\\" \")\n",
    "    \n",
    "    split_text = re.split(r'[:=]', cot)\n",
    "    last_part = split_text[-1].strip()  \n",
    "    \n",
    "    labels = re.findall(r'\\bC\\d+\\b', last_part)\n",
    "    \n",
    "    targets = ', '.join(labels)\n",
    "    \n",
    "    return cot, targets"
   ]
  },
  {
   "cell_type": "code",
   "execution_count": null,
   "id": "a35ed298",
   "metadata": {},
   "outputs": [],
   "source": [
    "train_df['COT'], train_df['Targets'] = zip(*train_df.apply(process_cot, axis=1))\n",
    "valid_df['COT'], valid_df['Targets'] = zip(*valid_df.apply(process_cot, axis=1))"
   ]
  },
  {
   "cell_type": "markdown",
   "id": "3b7a780b",
   "metadata": {},
   "source": [
    "### **4 - Saving Results :**"
   ]
  },
  {
   "cell_type": "code",
   "execution_count": null,
   "id": "be958506",
   "metadata": {},
   "outputs": [],
   "source": [
    "train_df.to_csv(\"Data/MIND-Preprocessed/train.csv\", index=False)\n",
    "valid_df.to_csv(\"Data/MIND-Preprocessed/valid.csv\", index=False)\n",
    "test_df.to_csv(\"Data/test.csv\", index=False)"
   ]
  }
 ],
 "metadata": {
  "kernelspec": {
   "display_name": "PFE",
   "language": "python",
   "name": "python3"
  },
  "language_info": {
   "codemirror_mode": {
    "name": "ipython",
    "version": 3
   },
   "file_extension": ".py",
   "mimetype": "text/x-python",
   "name": "python",
   "nbconvert_exporter": "python",
   "pygments_lexer": "ipython3",
   "version": "3.10.6"
  }
 },
 "nbformat": 4,
 "nbformat_minor": 5
}
