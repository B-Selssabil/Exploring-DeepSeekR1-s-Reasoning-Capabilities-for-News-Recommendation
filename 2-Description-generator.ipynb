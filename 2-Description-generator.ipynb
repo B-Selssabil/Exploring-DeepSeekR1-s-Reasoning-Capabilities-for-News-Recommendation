{
 "cells": [
  {
   "cell_type": "markdown",
   "metadata": {},
   "source": [
    "### **1 - Importing Libraries**"
   ]
  },
  {
   "cell_type": "code",
   "execution_count": null,
   "metadata": {
    "_cell_guid": "b1076dfc-b9ad-4769-8c92-a6c4dae69d19",
    "_uuid": "8f2839f25d086af736a60e9eeb907d3b93b6e0e5",
    "execution": {
     "iopub.execute_input": "2025-03-15T14:30:36.132910Z",
     "iopub.status.busy": "2025-03-15T14:30:36.132709Z",
     "iopub.status.idle": "2025-03-15T14:30:36.721475Z",
     "shell.execute_reply": "2025-03-15T14:30:36.720701Z",
     "shell.execute_reply.started": "2025-03-15T14:30:36.132891Z"
    },
    "trusted": true
   },
   "outputs": [],
   "source": [
    "import pandas as pd\n",
    "import json\n",
    "from unsloth import FastLanguageModel\n",
    "from trl import SFTTrainer\n",
    "from unsloth import is_bfloat16_supported\n",
    "from huggingface_hub import login\n",
    "from transformers import TrainingArguments \n",
    "import wandb\n",
    "from datasets import Dataset, DatasetDict"
   ]
  },
  {
   "cell_type": "markdown",
   "metadata": {},
   "source": [
    "### **2 - Loading Configuration**"
   ]
  },
  {
   "cell_type": "code",
   "execution_count": 2,
   "metadata": {},
   "outputs": [],
   "source": [
    "with open('config.json', 'r') as file:\n",
    "    config = json.load(file)\n",
    "\n",
    "# general configuration\n",
    "HGF = config['general']['HGF']\n",
    "WNB = config['general']['WNB']\n",
    "\n",
    "# outputs\n",
    "output_model_online = config['outputs']['output_model_online_Desc']\n",
    "output_model_local = config['outputs']['output_model_local_Desc']\n",
    "\n",
    "# model\n",
    "base_model = config['model']['base_model']\n",
    "max_seq_length = config['model']['max_seq_length']\n",
    "load_in_4bit = config['model']['load_in_4bit']\n",
    "\n",
    "# lora_config\n",
    "r = config['lora_config']['r']\n",
    "\n",
    "# fine_tuning\n",
    "dataset_num_proc = config['fine_tuning']['dataset_num_proc']\n",
    "per_device_train_batch_size = config['fine_tuning']['per_device_train_batch_size']\n",
    "gradient_accumulation_steps =  config['fine_tuning']['gradient_accumulation_steps']\n",
    "epochs =  config['fine_tuning']['epochs']['descriptor']\n",
    "max_steps = config['fine_tuning']['max_steps']\n",
    "warmup_steps = config['fine_tuning']['warmup_steps']\n",
    "learning_rate = config['fine_tuning']['learning_rate']\n",
    "optim = config['fine_tuning']['optim']\n",
    "weight_decay = config['fine_tuning']['weight_decay']\n",
    "lr_scheduler_type = config['fine_tuning']['lr_scheduler_type']\n",
    "output_dir = config['fine_tuning']['output_dir']"
   ]
  },
  {
   "cell_type": "markdown",
   "metadata": {},
   "source": [
    "### **3 - Reading Data**"
   ]
  },
  {
   "cell_type": "code",
   "execution_count": 3,
   "metadata": {
    "execution": {
     "iopub.execute_input": "2025-03-15T14:30:37.671071Z",
     "iopub.status.busy": "2025-03-15T14:30:37.670673Z",
     "iopub.status.idle": "2025-03-15T14:30:37.728558Z",
     "shell.execute_reply": "2025-03-15T14:30:37.727714Z",
     "shell.execute_reply.started": "2025-03-15T14:30:37.671047Z"
    },
    "trusted": true
   },
   "outputs": [],
   "source": [
    "train_df = pd.read_csv(\"Data/MIND-Preprocessed/train.csv\", index_col=0)\n",
    "valid_df = pd.read_csv(\"Data/MIND-Preprocessed/valid.csv\", index_col=0)"
   ]
  },
  {
   "cell_type": "markdown",
   "metadata": {},
   "source": [
    "### **4 - Authentication & Experiment Tracking**"
   ]
  },
  {
   "cell_type": "code",
   "execution_count": null,
   "metadata": {
    "execution": {
     "iopub.execute_input": "2025-03-15T14:34:03.865102Z",
     "iopub.status.busy": "2025-03-15T14:34:03.864792Z",
     "iopub.status.idle": "2025-03-15T14:34:18.914595Z",
     "shell.execute_reply": "2025-03-15T14:34:18.913976Z",
     "shell.execute_reply.started": "2025-03-15T14:34:03.865073Z"
    },
    "trusted": true
   },
   "outputs": [],
   "source": [
    "login(HGF)\n",
    "wandb.login(key=WNB)\n",
    "run = wandb.init(\n",
    "    project = \"Description-Generator-MIND\",\n",
    "    name = '5-epochs'\n",
    "    job_type=\"training\",\n",
    "    anonymous=\"allow\"\n",
    ")"
   ]
  },
  {
   "cell_type": "markdown",
   "metadata": {},
   "source": [
    "### **5- Loading DeepSeek R1 : Model & Tokenizer**"
   ]
  },
  {
   "cell_type": "code",
   "execution_count": null,
   "metadata": {
    "execution": {
     "iopub.execute_input": "2025-03-15T14:34:18.917021Z",
     "iopub.status.busy": "2025-03-15T14:34:18.916793Z",
     "iopub.status.idle": "2025-03-15T14:34:51.508776Z",
     "shell.execute_reply": "2025-03-15T14:34:51.507806Z",
     "shell.execute_reply.started": "2025-03-15T14:34:18.917001Z"
    },
    "trusted": true
   },
   "outputs": [],
   "source": [
    "model, tokenizer = FastLanguageModel.from_pretrained(\n",
    "    model_name = base_model,\n",
    "    max_seq_length = max_seq_length,\n",
    "    load_in_4bit = load_in_4bit,\n",
    "    token = HGF\n",
    ")"
   ]
  },
  {
   "cell_type": "markdown",
   "metadata": {},
   "source": [
    "### **6 - Setting Up Dataset**"
   ]
  },
  {
   "cell_type": "code",
   "execution_count": null,
   "metadata": {
    "execution": {
     "iopub.execute_input": "2025-03-15T14:35:28.711022Z",
     "iopub.status.busy": "2025-03-15T14:35:28.710693Z",
     "iopub.status.idle": "2025-03-15T14:35:28.739227Z",
     "shell.execute_reply": "2025-03-15T14:35:28.738596Z",
     "shell.execute_reply.started": "2025-03-15T14:35:28.710993Z"
    },
    "trusted": true
   },
   "outputs": [],
   "source": [
    "temp_1 = Dataset.from_pandas(train_df)\n",
    "temp_2 = Dataset.from_pandas(valid_df)\n",
    "\n",
    "dataset = DatasetDict({\n",
    "    \"train\": temp_1,\n",
    "    \"validation\": temp_2,\n",
    "    \n",
    "})"
   ]
  },
  {
   "cell_type": "code",
   "execution_count": null,
   "metadata": {},
   "outputs": [],
   "source": [
    "prompt_style = \"\"\" Below is an instruction that describes a task, paired with an input that provied further context.\n",
    "Write a response that appropiately completes the request.\n",
    "\n",
    "### Instruction:\n",
    "You are an interests analyzer. Based on the following user history, analyze their reading habits and generate a description of what kind of news articles they might be interested in reading next. \n",
    "\n",
    "### History:\n",
    "{}\n",
    "\n",
    "### Response:\n",
    "Description : \\n\n",
    "{}\n",
    "\n",
    "\"\"\""
   ]
  },
  {
   "cell_type": "code",
   "execution_count": null,
   "metadata": {
    "execution": {
     "iopub.execute_input": "2025-03-15T14:35:28.773914Z",
     "iopub.status.busy": "2025-03-15T14:35:28.773598Z",
     "iopub.status.idle": "2025-03-15T14:35:28.782815Z",
     "shell.execute_reply": "2025-03-15T14:35:28.782076Z",
     "shell.execute_reply.started": "2025-03-15T14:35:28.773884Z"
    },
    "trusted": true
   },
   "outputs": [],
   "source": [
    "EOS_TOKEN = tokenizer.eos_token\n",
    "\n",
    "def formatting_prompts_func(examples):\n",
    "    inputs = examples[\"history\"]\n",
    "    outputs = examples[\"Description\"]\n",
    "    prompts = []\n",
    "    for input, output in zip(inputs, outputs):\n",
    "        prompt = prompt_style.format(input, output) + EOS_TOKEN\n",
    "        prompts.append(prompt)\n",
    "    return {\n",
    "        \"prompt\": prompts,\n",
    "    }"
   ]
  },
  {
   "cell_type": "code",
   "execution_count": null,
   "metadata": {
    "execution": {
     "iopub.execute_input": "2025-03-15T14:35:28.783748Z",
     "iopub.status.busy": "2025-03-15T14:35:28.783522Z",
     "iopub.status.idle": "2025-03-15T14:35:28.796396Z",
     "shell.execute_reply": "2025-03-15T14:35:28.795765Z",
     "shell.execute_reply.started": "2025-03-15T14:35:28.783729Z"
    },
    "trusted": true
   },
   "outputs": [],
   "source": [
    "dataset = dataset.remove_columns(['candidate',\"label\"])"
   ]
  },
  {
   "cell_type": "code",
   "execution_count": null,
   "metadata": {
    "execution": {
     "iopub.execute_input": "2025-03-15T14:35:28.797423Z",
     "iopub.status.busy": "2025-03-15T14:35:28.797143Z",
     "iopub.status.idle": "2025-03-15T14:35:28.858602Z",
     "shell.execute_reply": "2025-03-15T14:35:28.857937Z",
     "shell.execute_reply.started": "2025-03-15T14:35:28.797394Z"
    },
    "trusted": true
   },
   "outputs": [],
   "source": [
    "dataset_finetune = dataset.map(formatting_prompts_func, batched = True)\n",
    "dataset_finetune"
   ]
  },
  {
   "cell_type": "markdown",
   "metadata": {},
   "source": [
    "### **7 - Setting up the model using LORA**"
   ]
  },
  {
   "cell_type": "code",
   "execution_count": 19,
   "metadata": {
    "execution": {
     "iopub.execute_input": "2025-03-15T14:35:28.859682Z",
     "iopub.status.busy": "2025-03-15T14:35:28.859432Z",
     "iopub.status.idle": "2025-03-15T14:35:35.569755Z",
     "shell.execute_reply": "2025-03-15T14:35:35.569082Z",
     "shell.execute_reply.started": "2025-03-15T14:35:28.859651Z"
    },
    "trusted": true
   },
   "outputs": [
    {
     "name": "stderr",
     "output_type": "stream",
     "text": [
      "Unsloth 2025.3.14 patched 32 layers with 32 QKV layers, 32 O layers and 32 MLP layers.\n"
     ]
    }
   ],
   "source": [
    "# Apply LoRA (Low-Rank Adaptaion) fine-tuning to the model\n",
    "model_lora = FastLanguageModel.get_peft_model(\n",
    "    model,\n",
    "    r = 16,\n",
    "    target_modules=[ # listing the tarnsfomers layer where lora will be applied \n",
    "        \"q_proj\",\n",
    "        \"k_proj\",\n",
    "        \"v_proj\",\n",
    "        \"o_proj\",\n",
    "        \"gate_proj\",\n",
    "        \"up_proj\",\n",
    "        \"down_proj\",\n",
    "    ],\n",
    "    lora_alpha=16,\n",
    "    lora_dropout=0,  \n",
    "    bias=\"none\",  \n",
    "    use_gradient_checkpointing=\"unsloth\",  # True or \"unsloth\" for very long context\n",
    "    random_state=3407,\n",
    "    use_rslora=False,  \n",
    "    loftq_config=None,\n",
    ")"
   ]
  },
  {
   "cell_type": "markdown",
   "metadata": {},
   "source": [
    "### **8 - Fine-Tuning: Setup and Training**"
   ]
  },
  {
   "cell_type": "code",
   "execution_count": null,
   "metadata": {
    "execution": {
     "iopub.execute_input": "2025-03-15T14:35:35.570859Z",
     "iopub.status.busy": "2025-03-15T14:35:35.570596Z",
     "iopub.status.idle": "2025-03-15T14:35:39.577379Z",
     "shell.execute_reply": "2025-03-15T14:35:39.576676Z",
     "shell.execute_reply.started": "2025-03-15T14:35:35.570838Z"
    },
    "trusted": true
   },
   "outputs": [],
   "source": [
    "trainer = SFTTrainer(\n",
    "    model=model_lora,\n",
    "    tokenizer=tokenizer,\n",
    "    train_dataset=dataset_finetune['train'],\n",
    "    eval_dataset=dataset_finetune['validation'],\n",
    "    dataset_text_field=\"prompt\",\n",
    "    max_seq_length=max_seq_length,\n",
    "    dataset_num_proc=2,\n",
    "    args=TrainingArguments(\n",
    "        per_device_train_batch_size=per_device_train_batch_size,\n",
    "        gradient_accumulation_steps=gradient_accumulation_steps,\n",
    "        num_train_epochs=epochs,\n",
    "        max_steps=max_steps,\n",
    "        warmup_steps=warmup_steps,\n",
    "        learning_rate=learning_rate,\n",
    "        fp16=not is_bfloat16_supported(),\n",
    "        bf16=is_bfloat16_supported(),\n",
    "        logging_steps=20,\n",
    "        optim=optim,\n",
    "        weight_decay= weight_decay,\n",
    "        lr_scheduler_type=lr_scheduler_type,\n",
    "        seed=777,\n",
    "        output_dir=output_dir,\n",
    "    ),\n",
    ")"
   ]
  },
  {
   "cell_type": "code",
   "execution_count": null,
   "metadata": {},
   "outputs": [],
   "source": [
    "trainer.train()"
   ]
  },
  {
   "cell_type": "markdown",
   "metadata": {},
   "source": [
    "### **9 - Saving Online**"
   ]
  },
  {
   "cell_type": "code",
   "execution_count": null,
   "metadata": {},
   "outputs": [],
   "source": [
    "model_lora.push_to_hub(output_model_online) \n",
    "tokenizer.push_to_hub(output_model_online)"
   ]
  },
  {
   "cell_type": "markdown",
   "metadata": {},
   "source": [
    "### **10 - Saving Locally**"
   ]
  },
  {
   "cell_type": "code",
   "execution_count": null,
   "metadata": {},
   "outputs": [],
   "source": [
    "model.save_pretrained(output_model_local) \n",
    "tokenizer.save_pretrained(output_model_local)"
   ]
  },
  {
   "cell_type": "code",
   "execution_count": null,
   "metadata": {},
   "outputs": [],
   "source": [
    "wandb.finish()"
   ]
  },
  {
   "cell_type": "markdown",
   "metadata": {},
   "source": [
    "### **11 - Generating Descriptions for Test Data**"
   ]
  },
  {
   "cell_type": "code",
   "execution_count": 6,
   "metadata": {
    "execution": {
     "iopub.execute_input": "2025-03-15T14:50:55.068406Z",
     "iopub.status.busy": "2025-03-15T14:50:55.068125Z",
     "iopub.status.idle": "2025-03-15T14:50:55.109502Z",
     "shell.execute_reply": "2025-03-15T14:50:55.108623Z",
     "shell.execute_reply.started": "2025-03-15T14:50:55.068371Z"
    },
    "trusted": true
   },
   "outputs": [],
   "source": [
    "test_df = pd.read_csv(\"Data/test.csv\", index_col=0)"
   ]
  },
  {
   "cell_type": "code",
   "execution_count": null,
   "metadata": {
    "execution": {
     "iopub.execute_input": "2025-03-15T14:50:55.260507Z",
     "iopub.status.busy": "2025-03-15T14:50:55.260239Z",
     "iopub.status.idle": "2025-03-15T14:50:55.271984Z",
     "shell.execute_reply": "2025-03-15T14:50:55.271123Z",
     "shell.execute_reply.started": "2025-03-15T14:50:55.260485Z"
    },
    "trusted": true
   },
   "outputs": [],
   "source": [
    "def generate_Descriptions(df,model):\n",
    "\n",
    "    history = []\n",
    "    desc = []\n",
    "    candidates = []\n",
    "    labels = []\n",
    "\n",
    "    for (i, row) in df.iterrows():\n",
    "           \n",
    "            prompt = row['history']\n",
    "            inputs = tokenizer([prompt_style.format(prompt, \"\")], return_tensors=\"pt\").to(\"cuda\")\n",
    "        \n",
    "            outputs = model.generate(\n",
    "                input_ids=inputs.input_ids,\n",
    "                attention_mask=inputs.attention_mask,\n",
    "                max_new_tokens= 900\n",
    "            )\n",
    "            response = tokenizer.batch_decode(outputs)\n",
    "            result = response[0].split(\"### Response:\")[1].split(\"\\nDescription : \\n\\n\\n\\n\")[1].replace(\"<｜end▁of▁sentence｜>\",\"\")\n",
    "            \n",
    "            desc.append(result)\n",
    "            candidates.append(row['candidate'])\n",
    "            labels.append(row['label'])\n",
    "            history.append(prompt)\n",
    "            \n",
    "    return history, desc, candidates, labels"
   ]
  },
  {
   "cell_type": "code",
   "execution_count": null,
   "metadata": {},
   "outputs": [],
   "source": [
    "h,d,c,l = generate_Descriptions(test_df, model_lora)"
   ]
  },
  {
   "cell_type": "code",
   "execution_count": null,
   "metadata": {
    "execution": {
     "iopub.execute_input": "2025-03-15T15:27:21.682070Z",
     "iopub.status.busy": "2025-03-15T15:27:21.681755Z",
     "iopub.status.idle": "2025-03-15T15:27:21.687391Z",
     "shell.execute_reply": "2025-03-15T15:27:21.686582Z",
     "shell.execute_reply.started": "2025-03-15T15:27:21.682037Z"
    },
    "trusted": true
   },
   "outputs": [],
   "source": [
    "df = pd.DataFrame({\n",
    "    \"history\":h,\n",
    "    \"Descriptions\":d,\n",
    "    \"Candidates\":c,\n",
    "    \"Labels\":l\n",
    "})"
   ]
  },
  {
   "cell_type": "code",
   "execution_count": 33,
   "metadata": {
    "execution": {
     "iopub.execute_input": "2025-03-15T15:27:21.701517Z",
     "iopub.status.busy": "2025-03-15T15:27:21.701284Z",
     "iopub.status.idle": "2025-03-15T15:27:21.712091Z",
     "shell.execute_reply": "2025-03-15T15:27:21.711320Z",
     "shell.execute_reply.started": "2025-03-15T15:27:21.701491Z"
    },
    "trusted": true
   },
   "outputs": [],
   "source": [
    "df['Descriptions'] = df['Descriptions'].str.replace('\\n\\n', '', regex=False)"
   ]
  },
  {
   "cell_type": "code",
   "execution_count": null,
   "metadata": {
    "execution": {
     "iopub.execute_input": "2025-03-15T15:27:21.713091Z",
     "iopub.status.busy": "2025-03-15T15:27:21.712815Z",
     "iopub.status.idle": "2025-03-15T15:27:21.745254Z",
     "shell.execute_reply": "2025-03-15T15:27:21.744692Z",
     "shell.execute_reply.started": "2025-03-15T15:27:21.713064Z"
    },
    "trusted": true
   },
   "outputs": [],
   "source": [
    "df.to_csv('Data/MIND-Preprocessed/test.csv', index=False)"
   ]
  }
 ],
 "metadata": {
  "kaggle": {
   "accelerator": "gpu",
   "dataSources": [
    {
     "datasetId": 6873040,
     "sourceId": 11034840,
     "sourceType": "datasetVersion"
    },
    {
     "datasetId": 6872831,
     "sourceId": 11035030,
     "sourceType": "datasetVersion"
    }
   ],
   "dockerImageVersionId": 30919,
   "isGpuEnabled": true,
   "isInternetEnabled": true,
   "language": "python",
   "sourceType": "notebook"
  },
  "kernelspec": {
   "display_name": "PFE",
   "language": "python",
   "name": "python3"
  },
  "language_info": {
   "codemirror_mode": {
    "name": "ipython",
    "version": 3
   },
   "file_extension": ".py",
   "mimetype": "text/x-python",
   "name": "python",
   "nbconvert_exporter": "python",
   "pygments_lexer": "ipython3",
   "version": "3.10.6"
  }
 },
 "nbformat": 4,
 "nbformat_minor": 4
}
